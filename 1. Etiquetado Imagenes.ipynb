{
 "cells": [
  {
   "cell_type": "markdown",
   "metadata": {},
   "source": [
    "# 1. Importar librerias"
   ]
  },
  {
   "cell_type": "code",
   "execution_count": 1,
   "metadata": {},
   "outputs": [
    {
     "name": "stdout",
     "output_type": "stream",
     "text": [
      "Requirement already satisfied: opencv-python in c:\\users\\santi\\tensorflow object detection\\tfodcourse\\tfod\\lib\\site-packages (4.5.5.62)\n",
      "Requirement already satisfied: numpy>=1.17.3 in c:\\users\\santi\\tensorflow object detection\\tfodcourse\\tfod\\lib\\site-packages (from opencv-python) (1.22.1)\n"
     ]
    }
   ],
   "source": [
    "!pip install opencv-python"
   ]
  },
  {
   "cell_type": "code",
   "execution_count": 1,
   "metadata": {},
   "outputs": [
    {
     "name": "stdout",
     "output_type": "stream",
     "text": [
      "Requirement already satisfied: pip in c:\\users\\santi\\tensorflow object detection\\tfodcourse\\tfod\\lib\\site-packages (22.0.2)Note: you may need to restart the kernel to use updated packages.\n",
      "\n"
     ]
    }
   ],
   "source": [
    "pip install --upgrade pip"
   ]
  },
  {
   "cell_type": "code",
   "execution_count": 2,
   "metadata": {},
   "outputs": [],
   "source": [
    "# Import opencv\n",
    "import cv2 \n",
    "\n",
    "# Import uuid\n",
    "import uuid\n",
    "\n",
    "# Import Operating System\n",
    "import os\n",
    "\n",
    "# Import time\n",
    "import time"
   ]
  },
  {
   "cell_type": "markdown",
   "metadata": {},
   "source": [
    "# 2. Crear Carpetas "
   ]
  },
  {
   "cell_type": "code",
   "execution_count": null,
   "metadata": {},
   "outputs": [],
   "source": [
    "IMAGES_PATH = os.path.join('Tensorflow', 'workspace', 'imagenes')"
   ]
  },
  {
   "cell_type": "code",
   "execution_count": null,
   "metadata": {},
   "outputs": [],
   "source": [
    "if not os.path.exists(IMAGES_PATH):\n",
    "    if os.name == 'posix':\n",
    "        !mkdir -p {IMAGES_PATH}\n",
    "    if os.name == 'nt':\n",
    "         !mkdir {IMAGES_PATH}\n",
    "for label in labels:\n",
    "    path = os.path.join(IMAGES_PATH, label)\n",
    "    if not os.path.exists(path):\n",
    "        !mkdir {path}"
   ]
  },
  {
   "cell_type": "markdown",
   "metadata": {},
   "source": [
    "# 3. Descargar Etiquetador"
   ]
  },
  {
   "cell_type": "code",
   "execution_count": 6,
   "metadata": {},
   "outputs": [
    {
     "name": "stdout",
     "output_type": "stream",
     "text": [
      "Requirement already satisfied: pyqt5 in c:\\users\\santi\\tensorflow object detection\\tfodcourse\\tfod\\lib\\site-packages (5.15.6)\n",
      "Requirement already satisfied: lxml in c:\\users\\santi\\tensorflow object detection\\tfodcourse\\tfod\\lib\\site-packages (4.7.1)\n",
      "Requirement already satisfied: PyQt5-Qt5>=5.15.2 in c:\\users\\santi\\tensorflow object detection\\tfodcourse\\tfod\\lib\\site-packages (from pyqt5) (5.15.2)\n",
      "Requirement already satisfied: PyQt5-sip<13,>=12.8 in c:\\users\\santi\\tensorflow object detection\\tfodcourse\\tfod\\lib\\site-packages (from pyqt5) (12.9.0)\n"
     ]
    }
   ],
   "source": [
    "!pip install --upgrade pyqt5 lxml"
   ]
  },
  {
   "cell_type": "code",
   "execution_count": 7,
   "metadata": {},
   "outputs": [],
   "source": [
    "LABELIMG_PATH = os.path.join('Tensorflow', 'labelimg')"
   ]
  },
  {
   "cell_type": "code",
   "execution_count": 8,
   "metadata": {},
   "outputs": [],
   "source": [
    "if not os.path.exists(LABELIMG_PATH):\n",
    "    !mkdir {LABELIMG_PATH}\n",
    "    !git clone https://github.com/tzutalin/labelImg {LABELIMG_PATH}"
   ]
  },
  {
   "cell_type": "code",
   "execution_count": 9,
   "metadata": {},
   "outputs": [],
   "source": [
    "if os.name == 'posix':\n",
    "    !cd {LABELIMG_PATH} && !make qt5py3\n",
    "if os.name =='nt':\n",
    "    !cd {LABELIMG_PATH} && pyrcc5 -o libs/resources.py resources.qrc"
   ]
  },
  {
   "cell_type": "code",
   "execution_count": 12,
   "metadata": {},
   "outputs": [
    {
     "name": "stdout",
     "output_type": "stream",
     "text": [
      "Cancel creation.\n",
      "Image:C:\\Users\\santi\\TensorFlow Object Detection\\TFODCourse\\Tensorflow\\workspace\\images\\collectedimages\\livelong\\livelong.a8c33810-846a-11ec-a190-089798d60ce4.jpg -> Annotation:C:/Users/santi/TensorFlow Object Detection/TFODCourse/Tensorflow/workspace/images/collectedimages/livelong/livelong.a8c33810-846a-11ec-a190-089798d60ce4.xml\n",
      "Image:C:\\Users\\santi\\TensorFlow Object Detection\\TFODCourse\\Tensorflow\\workspace\\images\\collectedimages\\livelong\\livelong.a9f7b4a2-846a-11ec-9c64-089798d60ce4.jpg -> Annotation:C:/Users/santi/TensorFlow Object Detection/TFODCourse/Tensorflow/workspace/images/collectedimages/livelong/livelong.a9f7b4a2-846a-11ec-9c64-089798d60ce4.xml\n",
      "Image:C:\\Users\\santi\\TensorFlow Object Detection\\TFODCourse\\Tensorflow\\workspace\\images\\collectedimages\\livelong\\livelong.a659a6d5-846a-11ec-8b66-089798d60ce4.jpg -> Annotation:C:/Users/santi/TensorFlow Object Detection/TFODCourse/Tensorflow/workspace/images/collectedimages/livelong/livelong.a659a6d5-846a-11ec-8b66-089798d60ce4.xml\n",
      "Image:C:\\Users\\santi\\TensorFlow Object Detection\\TFODCourse\\Tensorflow\\workspace\\images\\collectedimages\\livelong\\livelong.a52534d5-846a-11ec-b41a-089798d60ce4.jpg -> Annotation:C:/Users/santi/TensorFlow Object Detection/TFODCourse/Tensorflow/workspace/images/collectedimages/livelong/livelong.a52534d5-846a-11ec-b41a-089798d60ce4.xml\n",
      "Image:C:\\Users\\santi\\TensorFlow Object Detection\\TFODCourse\\Tensorflow\\workspace\\images\\collectedimages\\livelong\\livelong.a78ea5ef-846a-11ec-a669-089798d60ce4.jpg -> Annotation:C:/Users/santi/TensorFlow Object Detection/TFODCourse/Tensorflow/workspace/images/collectedimages/livelong/livelong.a78ea5ef-846a-11ec-a669-089798d60ce4.xml\n",
      "Cancel creation.\n",
      "Cancel creation.\n",
      "Image:C:\\Users\\santi\\TensorFlow Object Detection\\TFODCourse\\Tensorflow\\workspace\\images\\collectedimages\\thankyou\\thankyou.9afa8a9c-846a-11ec-9ae1-089798d60ce4.jpg -> Annotation:C:/Users/santi/TensorFlow Object Detection/TFODCourse/Tensorflow/workspace/images/collectedimages/thankyou/thankyou.9afa8a9c-846a-11ec-9ae1-089798d60ce4.xml\n",
      "Image:C:\\Users\\santi\\TensorFlow Object Detection\\TFODCourse\\Tensorflow\\workspace\\images\\collectedimages\\thankyou\\thankyou.9c2fb1d6-846a-11ec-a990-089798d60ce4.jpg -> Annotation:C:/Users/santi/TensorFlow Object Detection/TFODCourse/Tensorflow/workspace/images/collectedimages/thankyou/thankyou.9c2fb1d6-846a-11ec-a990-089798d60ce4.xml\n",
      "Image:C:\\Users\\santi\\TensorFlow Object Detection\\TFODCourse\\Tensorflow\\workspace\\images\\collectedimages\\thankyou\\thankyou.9d640bc4-846a-11ec-be02-089798d60ce4.jpg -> Annotation:C:/Users/santi/TensorFlow Object Detection/TFODCourse/Tensorflow/workspace/images/collectedimages/thankyou/thankyou.9d640bc4-846a-11ec-be02-089798d60ce4.xml\n",
      "Image:C:\\Users\\santi\\TensorFlow Object Detection\\TFODCourse\\Tensorflow\\workspace\\images\\collectedimages\\thankyou\\thankyou.9e97395c-846a-11ec-8118-089798d60ce4.jpg -> Annotation:C:/Users/santi/TensorFlow Object Detection/TFODCourse/Tensorflow/workspace/images/collectedimages/thankyou/thankyou.9e97395c-846a-11ec-8118-089798d60ce4.xml\n",
      "Image:C:\\Users\\santi\\TensorFlow Object Detection\\TFODCourse\\Tensorflow\\workspace\\images\\collectedimages\\thankyou\\thankyou.9fcb63bd-846a-11ec-b35b-089798d60ce4.jpg -> Annotation:C:/Users/santi/TensorFlow Object Detection/TFODCourse/Tensorflow/workspace/images/collectedimages/thankyou/thankyou.9fcb63bd-846a-11ec-b35b-089798d60ce4.xml\n",
      "Image:C:\\Users\\santi\\TensorFlow Object Detection\\TFODCourse\\Tensorflow\\workspace\\images\\collectedimages\\thumbsdown\\thumbsdown.90bef8a7-846a-11ec-b9b1-089798d60ce4.jpg -> Annotation:C:/Users/santi/TensorFlow Object Detection/TFODCourse/Tensorflow/workspace/images/collectedimages/thumbsdown/thumbsdown.90bef8a7-846a-11ec-b9b1-089798d60ce4.xml\n",
      "Image:C:\\Users\\santi\\TensorFlow Object Detection\\TFODCourse\\Tensorflow\\workspace\\images\\collectedimages\\thumbsdown\\thumbsdown.91f4aacb-846a-11ec-a8ee-089798d60ce4.jpg -> Annotation:C:/Users/santi/TensorFlow Object Detection/TFODCourse/Tensorflow/workspace/images/collectedimages/thumbsdown/thumbsdown.91f4aacb-846a-11ec-a8ee-089798d60ce4.xml\n",
      "Cancel creation.\n",
      "Image:C:\\Users\\santi\\TensorFlow Object Detection\\TFODCourse\\Tensorflow\\workspace\\images\\collectedimages\\thumbsdown\\thumbsdown.945f2778-846a-11ec-b711-089798d60ce4.jpg -> Annotation:C:/Users/santi/TensorFlow Object Detection/TFODCourse/Tensorflow/workspace/images/collectedimages/thumbsdown/thumbsdown.945f2778-846a-11ec-b711-089798d60ce4.xml\n",
      "Image:C:\\Users\\santi\\TensorFlow Object Detection\\TFODCourse\\Tensorflow\\workspace\\images\\collectedimages\\thumbsdown\\thumbsdown.95941f4d-846a-11ec-a0c0-089798d60ce4.jpg -> Annotation:C:/Users/santi/TensorFlow Object Detection/TFODCourse/Tensorflow/workspace/images/collectedimages/thumbsdown/thumbsdown.95941f4d-846a-11ec-a0c0-089798d60ce4.xml\n",
      "Image:C:\\Users\\santi\\TensorFlow Object Detection\\TFODCourse\\Tensorflow\\workspace\\images\\collectedimages\\thumbsdown\\thumbsdown.93283422-846a-11ec-a49f-089798d60ce4.jpg -> Annotation:C:/Users/santi/TensorFlow Object Detection/TFODCourse/Tensorflow/workspace/images/collectedimages/thumbsdown/thumbsdown.93283422-846a-11ec-a49f-089798d60ce4.xml\n",
      "Image:C:\\Users\\santi\\TensorFlow Object Detection\\TFODCourse\\Tensorflow\\workspace\\images\\collectedimages\\thumbsup\\thumbsup.8a2ab773-846a-11ec-a2b9-089798d60ce4.jpg -> Annotation:C:/Users/santi/TensorFlow Object Detection/TFODCourse/Tensorflow/workspace/images/collectedimages/thumbsup/thumbsup.8a2ab773-846a-11ec-a2b9-089798d60ce4.xml\n",
      "Image:C:\\Users\\santi\\TensorFlow Object Detection\\TFODCourse\\Tensorflow\\workspace\\images\\collectedimages\\thumbsup\\thumbsup.8b5fcfb7-846a-11ec-a90a-089798d60ce4.jpg -> Annotation:C:/Users/santi/TensorFlow Object Detection/TFODCourse/Tensorflow/workspace/images/collectedimages/thumbsup/thumbsup.8b5fcfb7-846a-11ec-a90a-089798d60ce4.xml\n",
      "Image:C:\\Users\\santi\\TensorFlow Object Detection\\TFODCourse\\Tensorflow\\workspace\\images\\collectedimages\\thumbsup\\thumbsup.87c1506a-846a-11ec-9acb-089798d60ce4.jpg -> Annotation:C:/Users/santi/TensorFlow Object Detection/TFODCourse/Tensorflow/workspace/images/collectedimages/thumbsup/thumbsup.87c1506a-846a-11ec-9acb-089798d60ce4.xml\n",
      "Image:C:\\Users\\santi\\TensorFlow Object Detection\\TFODCourse\\Tensorflow\\workspace\\images\\collectedimages\\thumbsup\\thumbsup.88f6eb29-846a-11ec-97e2-089798d60ce4.jpg -> Annotation:C:/Users/santi/TensorFlow Object Detection/TFODCourse/Tensorflow/workspace/images/collectedimages/thumbsup/thumbsup.88f6eb29-846a-11ec-97e2-089798d60ce4.xml\n",
      "Image:C:\\Users\\santi\\TensorFlow Object Detection\\TFODCourse\\Tensorflow\\workspace\\images\\collectedimages\\thumbsup\\thumbsup.868841c4-846a-11ec-a2d5-089798d60ce4.jpg -> Annotation:C:/Users/santi/TensorFlow Object Detection/TFODCourse/Tensorflow/workspace/images/collectedimages/thumbsup/thumbsup.868841c4-846a-11ec-a2d5-089798d60ce4.xml\n"
     ]
    },
    {
     "name": "stderr",
     "output_type": "stream",
     "text": [
      "Warning: QT_DEVICE_PIXEL_RATIO is deprecated. Instead use:\n",
      "   QT_AUTO_SCREEN_SCALE_FACTOR to enable platform plugin controlled per-screen factors.\n",
      "   QT_SCREEN_SCALE_FACTORS to set per-screen DPI.\n",
      "   QT_SCALE_FACTOR to set the application global scale factor.\n"
     ]
    }
   ],
   "source": [
    "!cd {LABELIMG_PATH} && python labelImg.py"
   ]
  },
  {
   "cell_type": "markdown",
   "metadata": {},
   "source": [
    "# 4. Mover imagenes dentro del código de entrenamiento y testeo"
   ]
  },
  {
   "cell_type": "markdown",
   "metadata": {},
   "source": [
    "# OPCIONAL - 5. Comprimirlas para el entrenamiento en collab"
   ]
  },
  {
   "cell_type": "code",
   "execution_count": null,
   "metadata": {},
   "outputs": [],
   "source": [
    "TRAIN_PATH = os.path.join('imagenes', 'train')\n",
    "TEST_PATH = os.path.join('imagenes', 'test')\n",
    "ARCHIVE_PATH = os.path.join('imagenes', 'archive.tar.gz')"
   ]
  },
  {
   "cell_type": "code",
   "execution_count": null,
   "metadata": {},
   "outputs": [],
   "source": [
    "!tar -czf {ARCHIVE_PATH} {TRAIN_PATH} {TEST_PATH}"
   ]
  }
 ],
 "metadata": {
  "kernelspec": {
   "display_name": "tfod",
   "language": "python",
   "name": "tfod"
  },
  "language_info": {
   "codemirror_mode": {
    "name": "ipython",
    "version": 3
   },
   "file_extension": ".py",
   "mimetype": "text/x-python",
   "name": "python",
   "nbconvert_exporter": "python",
   "pygments_lexer": "ipython3",
   "version": "3.8.10"
  }
 },
 "nbformat": 4,
 "nbformat_minor": 2
}
